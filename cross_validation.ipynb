{
 "cells": [
  {
   "cell_type": "markdown",
   "metadata": {},
   "source": [
    "# Cross-Validation in Python\n",
    "\n",
    "Cross-validation is a technique to assess model performance by splitting data into multiple subsets, training on some, and testing on others. This helps prevent overfitting and provides a robust estimate of model generalization.\n",
    "\n",
    "This notebook demonstrates cross-validation using scikit-learn with a linear regression model on synthetic data."
   ]
  },
  {
   "cell_type": "markdown",
   "metadata": {},
   "source": [
    "## 1. Import Libraries\n",
    "\n",
    "We need scikit-learn for data generation, model, and cross-validation utilities."
   ]
  },
  {
   "cell_type": "code",
   "metadata": {
    "ExecuteTime": {
     "end_time": "2025-06-06T13:08:51.873215Z",
     "start_time": "2025-06-06T13:08:49.561759Z"
    }
   },
   "source": [
    "%pip install scikit-learn"
   ],
   "outputs": [
    {
     "name": "stdout",
     "output_type": "stream",
     "text": [
      "Requirement already satisfied: scikit-learn in c:\\users\\chris\\appdata\\local\\programs\\python\\python311\\lib\\site-packages (1.6.1)\n",
      "Requirement already satisfied: numpy>=1.19.5 in c:\\users\\chris\\appdata\\local\\programs\\python\\python311\\lib\\site-packages (from scikit-learn) (1.23.5)\n",
      "Requirement already satisfied: scipy>=1.6.0 in c:\\users\\chris\\appdata\\local\\programs\\python\\python311\\lib\\site-packages (from scikit-learn) (1.15.3)\n",
      "Requirement already satisfied: joblib>=1.2.0 in c:\\users\\chris\\appdata\\local\\programs\\python\\python311\\lib\\site-packages (from scikit-learn) (1.5.1)\n",
      "Requirement already satisfied: threadpoolctl>=3.1.0 in c:\\users\\chris\\appdata\\local\\programs\\python\\python311\\lib\\site-packages (from scikit-learn) (3.6.0)\n",
      "Note: you may need to restart the kernel to use updated packages.\n"
     ]
    },
    {
     "name": "stderr",
     "output_type": "stream",
     "text": [
      "\n",
      "[notice] A new release of pip is available: 23.3.1 -> 25.1.1\n",
      "[notice] To update, run: python.exe -m pip install --upgrade pip\n"
     ]
    }
   ],
   "execution_count": 1
  },
  {
   "cell_type": "code",
   "metadata": {
    "ExecuteTime": {
     "end_time": "2025-06-06T13:09:00.069571Z",
     "start_time": "2025-06-06T13:08:52.531805Z"
    }
   },
   "source": [
    "from sklearn.datasets import make_regression\n",
    "from sklearn.model_selection import cross_val_score, KFold\n",
    "from sklearn.linear_model import LinearRegression\n",
    "import numpy as np"
   ],
   "outputs": [],
   "execution_count": 2
  },
  {
   "cell_type": "markdown",
   "metadata": {},
   "source": [
    "## 2. Generate Synthetic Data\n",
    "\n",
    "Create a simple regression dataset with 100 samples, 1 feature, and some noise."
   ]
  },
  {
   "cell_type": "code",
   "metadata": {
    "ExecuteTime": {
     "end_time": "2025-06-06T13:09:00.087816Z",
     "start_time": "2025-06-06T13:09:00.080902Z"
    }
   },
   "source": [
    "X, y = make_regression(n_samples=100, n_features=1, noise=0.1, random_state=42)\n",
    "print(\"Data shape:\", X.shape, y.shape)"
   ],
   "outputs": [
    {
     "name": "stdout",
     "output_type": "stream",
     "text": [
      "Data shape: (100, 1) (100,)\n"
     ]
    }
   ],
   "execution_count": 3
  },
  {
   "cell_type": "markdown",
   "metadata": {},
   "source": [
    "## 3. Initialize Model\n",
    "\n",
    "Use a linear regression model for this example."
   ]
  },
  {
   "cell_type": "code",
   "metadata": {
    "ExecuteTime": {
     "end_time": "2025-06-06T13:09:00.107536Z",
     "start_time": "2025-06-06T13:09:00.104619Z"
    }
   },
   "source": [
    "model = LinearRegression()"
   ],
   "outputs": [],
   "execution_count": 4
  },
  {
   "cell_type": "markdown",
   "metadata": {},
   "source": [
    "## 4. Set Up K-Fold Cross-Validation\n",
    "\n",
    "Configure 10-fold cross-validation with shuffling to ensure random splits."
   ]
  },
  {
   "cell_type": "code",
   "metadata": {
    "ExecuteTime": {
     "end_time": "2025-06-06T13:09:00.127653Z",
     "start_time": "2025-06-06T13:09:00.124705Z"
    }
   },
   "source": [
    "cv = KFold(n_splits=10, shuffle=True, random_state=1)"
   ],
   "outputs": [],
   "execution_count": 5
  },
  {
   "cell_type": "markdown",
   "metadata": {},
   "source": [
    "## 5. Perform Cross-Validation\n",
    "\n",
    "Evaluate the model using negative mean absolute error (MAE). The negative sign is used because scikit-learn's convention maximizes scores."
   ]
  },
  {
   "cell_type": "code",
   "metadata": {
    "ExecuteTime": {
     "end_time": "2025-06-06T13:09:00.161670Z",
     "start_time": "2025-06-06T13:09:00.140414Z"
    }
   },
   "source": [
    "scores = cross_val_score(model, X, y, scoring='neg_mean_absolute_error', cv=cv)\n",
    "print(\"Cross-validation scores (negative MAE):\", scores)\n",
    "print(f\"Mean MAE: {-scores.mean():.3f}\")\n",
    "print(f\"Standard deviation: {scores.std():.3f}\")"
   ],
   "outputs": [
    {
     "name": "stdout",
     "output_type": "stream",
     "text": [
      "Cross-validation scores (negative MAE): [-0.05488021 -0.08413882 -0.07235758 -0.08132091 -0.08722358 -0.04575729\n",
      " -0.06697136 -0.08161812 -0.08234569 -0.06934001]\n",
      "Mean MAE: 0.073\n",
      "Standard deviation: 0.013\n"
     ]
    }
   ],
   "execution_count": 6
  },
  {
   "cell_type": "markdown",
   "metadata": {},
   "source": [
    "## 6. Interpretation\n",
    "\n",
    "- **Mean MAE**: Average error across all folds, indicating model performance.\n",
    "- **Standard Deviation**: Variability of scores, showing consistency across folds.\n",
    "\n",
    "This setup ensures the model is evaluated on different data subsets, providing a reliable performance estimate."
   ]
  },
  {
   "metadata": {},
   "cell_type": "markdown",
   "source": ""
  },
  {
   "metadata": {},
   "cell_type": "markdown",
   "source": [
    "Christo's Questions for Fasalu:\n",
    "1. make_regression? What does it do?\n",
    "2. Cross-validation scores (negative MAE): [-0.05488021 -0.08413882 -0.07235758 -0.08132091 -0.08722358 -0.04575729\n",
    " -0.06697136 -0.08161812 -0.08234569 -0.06934001]. What is negative MAE ? Does these -1 to 1"
   ]
  }
 ],
 "metadata": {
  "kernelspec": {
   "display_name": "env",
   "language": "python",
   "name": "python3"
  },
  "language_info": {
   "codemirror_mode": {
    "name": "ipython",
    "version": 3
   },
   "file_extension": ".py",
   "mimetype": "text/x-python",
   "name": "python",
   "nbconvert_exporter": "python",
   "pygments_lexer": "ipython3",
   "version": "3.13.3"
  }
 },
 "nbformat": 4,
 "nbformat_minor": 4
}
